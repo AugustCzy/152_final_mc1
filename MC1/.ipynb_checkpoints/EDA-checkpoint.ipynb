{
 "cells": [
  {
   "cell_type": "code",
   "execution_count": 1,
   "id": "active-scratch",
   "metadata": {},
   "outputs": [],
   "source": [
    "import numpy as np\n",
    "import pandas as pd \n",
    "import sklearn\n",
    "import matplotlib.pyplot as plt\n",
    "import re"
   ]
  },
  {
   "cell_type": "code",
   "execution_count": 2,
   "id": "biblical-copying",
   "metadata": {},
   "outputs": [],
   "source": [
    "data = pd.read_csv('Lekagul Sensor Data.csv')"
   ]
  },
  {
   "cell_type": "code",
   "execution_count": 3,
   "id": "structural-friendship",
   "metadata": {},
   "outputs": [
    {
     "data": {
      "text/html": [
       "<div>\n",
       "<style scoped>\n",
       "    .dataframe tbody tr th:only-of-type {\n",
       "        vertical-align: middle;\n",
       "    }\n",
       "\n",
       "    .dataframe tbody tr th {\n",
       "        vertical-align: top;\n",
       "    }\n",
       "\n",
       "    .dataframe thead th {\n",
       "        text-align: right;\n",
       "    }\n",
       "</style>\n",
       "<table border=\"1\" class=\"dataframe\">\n",
       "  <thead>\n",
       "    <tr style=\"text-align: right;\">\n",
       "      <th></th>\n",
       "      <th>Timestamp</th>\n",
       "      <th>car-id</th>\n",
       "      <th>car-type</th>\n",
       "      <th>gate-name</th>\n",
       "    </tr>\n",
       "  </thead>\n",
       "  <tbody>\n",
       "    <tr>\n",
       "      <th>0</th>\n",
       "      <td>5/1/15 0:43</td>\n",
       "      <td>20154301124328-262</td>\n",
       "      <td>4</td>\n",
       "      <td>entrance3</td>\n",
       "    </tr>\n",
       "    <tr>\n",
       "      <th>1</th>\n",
       "      <td>5/1/15 1:03</td>\n",
       "      <td>20154301124328-262</td>\n",
       "      <td>4</td>\n",
       "      <td>general-gate1</td>\n",
       "    </tr>\n",
       "    <tr>\n",
       "      <th>2</th>\n",
       "      <td>5/1/15 1:06</td>\n",
       "      <td>20154301124328-262</td>\n",
       "      <td>4</td>\n",
       "      <td>ranger-stop2</td>\n",
       "    </tr>\n",
       "    <tr>\n",
       "      <th>3</th>\n",
       "      <td>5/1/15 1:09</td>\n",
       "      <td>20154301124328-262</td>\n",
       "      <td>4</td>\n",
       "      <td>ranger-stop0</td>\n",
       "    </tr>\n",
       "    <tr>\n",
       "      <th>4</th>\n",
       "      <td>5/1/15 1:12</td>\n",
       "      <td>20154301124328-262</td>\n",
       "      <td>4</td>\n",
       "      <td>general-gate2</td>\n",
       "    </tr>\n",
       "    <tr>\n",
       "      <th>...</th>\n",
       "      <td>...</td>\n",
       "      <td>...</td>\n",
       "      <td>...</td>\n",
       "      <td>...</td>\n",
       "    </tr>\n",
       "    <tr>\n",
       "      <th>171472</th>\n",
       "      <td>5/31/16 23:40</td>\n",
       "      <td>20161031111001-854</td>\n",
       "      <td>6</td>\n",
       "      <td>ranger-stop2</td>\n",
       "    </tr>\n",
       "    <tr>\n",
       "      <th>171473</th>\n",
       "      <td>5/31/16 23:42</td>\n",
       "      <td>20165831105856-579</td>\n",
       "      <td>1</td>\n",
       "      <td>general-gate4</td>\n",
       "    </tr>\n",
       "    <tr>\n",
       "      <th>171474</th>\n",
       "      <td>5/31/16 23:43</td>\n",
       "      <td>20161031111001-854</td>\n",
       "      <td>6</td>\n",
       "      <td>general-gate1</td>\n",
       "    </tr>\n",
       "    <tr>\n",
       "      <th>171475</th>\n",
       "      <td>5/31/16 23:49</td>\n",
       "      <td>20165831105856-579</td>\n",
       "      <td>1</td>\n",
       "      <td>general-gate7</td>\n",
       "    </tr>\n",
       "    <tr>\n",
       "      <th>171476</th>\n",
       "      <td>5/31/16 23:56</td>\n",
       "      <td>20161031111001-854</td>\n",
       "      <td>6</td>\n",
       "      <td>general-gate4</td>\n",
       "    </tr>\n",
       "  </tbody>\n",
       "</table>\n",
       "<p>171477 rows × 4 columns</p>\n",
       "</div>"
      ],
      "text/plain": [
       "            Timestamp              car-id car-type      gate-name\n",
       "0         5/1/15 0:43  20154301124328-262        4      entrance3\n",
       "1         5/1/15 1:03  20154301124328-262        4  general-gate1\n",
       "2         5/1/15 1:06  20154301124328-262        4   ranger-stop2\n",
       "3         5/1/15 1:09  20154301124328-262        4   ranger-stop0\n",
       "4         5/1/15 1:12  20154301124328-262        4  general-gate2\n",
       "...               ...                 ...      ...            ...\n",
       "171472  5/31/16 23:40  20161031111001-854        6   ranger-stop2\n",
       "171473  5/31/16 23:42  20165831105856-579        1  general-gate4\n",
       "171474  5/31/16 23:43  20161031111001-854        6  general-gate1\n",
       "171475  5/31/16 23:49  20165831105856-579        1  general-gate7\n",
       "171476  5/31/16 23:56  20161031111001-854        6  general-gate4\n",
       "\n",
       "[171477 rows x 4 columns]"
      ]
     },
     "execution_count": 3,
     "metadata": {},
     "output_type": "execute_result"
    }
   ],
   "source": [
    "data"
   ]
  },
  {
   "cell_type": "code",
   "execution_count": 4,
   "id": "expanded-actor",
   "metadata": {},
   "outputs": [
    {
     "data": {
      "text/html": [
       "<div>\n",
       "<style scoped>\n",
       "    .dataframe tbody tr th:only-of-type {\n",
       "        vertical-align: middle;\n",
       "    }\n",
       "\n",
       "    .dataframe tbody tr th {\n",
       "        vertical-align: top;\n",
       "    }\n",
       "\n",
       "    .dataframe thead th {\n",
       "        text-align: right;\n",
       "    }\n",
       "</style>\n",
       "<table border=\"1\" class=\"dataframe\">\n",
       "  <thead>\n",
       "    <tr style=\"text-align: right;\">\n",
       "      <th></th>\n",
       "      <th>Timestamp</th>\n",
       "      <th>car-id</th>\n",
       "      <th>car-type</th>\n",
       "      <th>gate-name</th>\n",
       "    </tr>\n",
       "  </thead>\n",
       "  <tbody>\n",
       "    <tr>\n",
       "      <th>count</th>\n",
       "      <td>171477</td>\n",
       "      <td>171477</td>\n",
       "      <td>171477</td>\n",
       "      <td>171477</td>\n",
       "    </tr>\n",
       "    <tr>\n",
       "      <th>unique</th>\n",
       "      <td>123133</td>\n",
       "      <td>18708</td>\n",
       "      <td>7</td>\n",
       "      <td>40</td>\n",
       "    </tr>\n",
       "    <tr>\n",
       "      <th>top</th>\n",
       "      <td>7/30/15 11:54</td>\n",
       "      <td>20154519024544-322</td>\n",
       "      <td>1</td>\n",
       "      <td>general-gate7</td>\n",
       "    </tr>\n",
       "    <tr>\n",
       "      <th>freq</th>\n",
       "      <td>9</td>\n",
       "      <td>281</td>\n",
       "      <td>67698</td>\n",
       "      <td>16119</td>\n",
       "    </tr>\n",
       "  </tbody>\n",
       "</table>\n",
       "</div>"
      ],
      "text/plain": [
       "            Timestamp              car-id car-type      gate-name\n",
       "count          171477              171477   171477         171477\n",
       "unique         123133               18708        7             40\n",
       "top     7/30/15 11:54  20154519024544-322        1  general-gate7\n",
       "freq                9                 281    67698          16119"
      ]
     },
     "execution_count": 4,
     "metadata": {},
     "output_type": "execute_result"
    }
   ],
   "source": [
    "data.describe()"
   ]
  },
  {
   "cell_type": "code",
   "execution_count": 5,
   "id": "lesser-tension",
   "metadata": {},
   "outputs": [],
   "source": [
    "#Took the date element out \n",
    "data['Date'] = pd.to_datetime(data['Timestamp'], format='%m/%d/%y %H:%M')\n",
    "data['Timestamp'] = pd.to_datetime(data['Timestamp'], format='%m/%d/%y %H:%M')\n",
    "data['day'] = data['Date'].round('D')\n",
    "data['hours'] = pd.to_datetime(data['Date'].round('H')).dt.time\n",
    "\n",
    "data = data.set_index('Timestamp')[['car-id','car-type', 'gate-name','Date','day','hours']]"
   ]
  },
  {
   "cell_type": "code",
   "execution_count": 6,
   "id": "exotic-heritage",
   "metadata": {},
   "outputs": [
    {
     "data": {
      "text/html": [
       "<div>\n",
       "<style scoped>\n",
       "    .dataframe tbody tr th:only-of-type {\n",
       "        vertical-align: middle;\n",
       "    }\n",
       "\n",
       "    .dataframe tbody tr th {\n",
       "        vertical-align: top;\n",
       "    }\n",
       "\n",
       "    .dataframe thead th {\n",
       "        text-align: right;\n",
       "    }\n",
       "</style>\n",
       "<table border=\"1\" class=\"dataframe\">\n",
       "  <thead>\n",
       "    <tr style=\"text-align: right;\">\n",
       "      <th></th>\n",
       "      <th>car-id</th>\n",
       "      <th>car-type</th>\n",
       "      <th>gate-name</th>\n",
       "      <th>Date</th>\n",
       "      <th>day</th>\n",
       "      <th>hours</th>\n",
       "    </tr>\n",
       "    <tr>\n",
       "      <th>Timestamp</th>\n",
       "      <th></th>\n",
       "      <th></th>\n",
       "      <th></th>\n",
       "      <th></th>\n",
       "      <th></th>\n",
       "      <th></th>\n",
       "    </tr>\n",
       "  </thead>\n",
       "  <tbody>\n",
       "    <tr>\n",
       "      <th>2015-05-01 00:43:00</th>\n",
       "      <td>20154301124328-262</td>\n",
       "      <td>4</td>\n",
       "      <td>entrance3</td>\n",
       "      <td>2015-05-01 00:43:00</td>\n",
       "      <td>2015-05-01</td>\n",
       "      <td>01:00:00</td>\n",
       "    </tr>\n",
       "    <tr>\n",
       "      <th>2015-05-01 01:03:00</th>\n",
       "      <td>20154301124328-262</td>\n",
       "      <td>4</td>\n",
       "      <td>general-gate1</td>\n",
       "      <td>2015-05-01 01:03:00</td>\n",
       "      <td>2015-05-01</td>\n",
       "      <td>01:00:00</td>\n",
       "    </tr>\n",
       "    <tr>\n",
       "      <th>2015-05-01 01:06:00</th>\n",
       "      <td>20154301124328-262</td>\n",
       "      <td>4</td>\n",
       "      <td>ranger-stop2</td>\n",
       "      <td>2015-05-01 01:06:00</td>\n",
       "      <td>2015-05-01</td>\n",
       "      <td>01:00:00</td>\n",
       "    </tr>\n",
       "    <tr>\n",
       "      <th>2015-05-01 01:09:00</th>\n",
       "      <td>20154301124328-262</td>\n",
       "      <td>4</td>\n",
       "      <td>ranger-stop0</td>\n",
       "      <td>2015-05-01 01:09:00</td>\n",
       "      <td>2015-05-01</td>\n",
       "      <td>01:00:00</td>\n",
       "    </tr>\n",
       "    <tr>\n",
       "      <th>2015-05-01 01:12:00</th>\n",
       "      <td>20154301124328-262</td>\n",
       "      <td>4</td>\n",
       "      <td>general-gate2</td>\n",
       "      <td>2015-05-01 01:12:00</td>\n",
       "      <td>2015-05-01</td>\n",
       "      <td>01:00:00</td>\n",
       "    </tr>\n",
       "    <tr>\n",
       "      <th>...</th>\n",
       "      <td>...</td>\n",
       "      <td>...</td>\n",
       "      <td>...</td>\n",
       "      <td>...</td>\n",
       "      <td>...</td>\n",
       "      <td>...</td>\n",
       "    </tr>\n",
       "    <tr>\n",
       "      <th>2016-05-31 23:40:00</th>\n",
       "      <td>20161031111001-854</td>\n",
       "      <td>6</td>\n",
       "      <td>ranger-stop2</td>\n",
       "      <td>2016-05-31 23:40:00</td>\n",
       "      <td>2016-06-01</td>\n",
       "      <td>00:00:00</td>\n",
       "    </tr>\n",
       "    <tr>\n",
       "      <th>2016-05-31 23:42:00</th>\n",
       "      <td>20165831105856-579</td>\n",
       "      <td>1</td>\n",
       "      <td>general-gate4</td>\n",
       "      <td>2016-05-31 23:42:00</td>\n",
       "      <td>2016-06-01</td>\n",
       "      <td>00:00:00</td>\n",
       "    </tr>\n",
       "    <tr>\n",
       "      <th>2016-05-31 23:43:00</th>\n",
       "      <td>20161031111001-854</td>\n",
       "      <td>6</td>\n",
       "      <td>general-gate1</td>\n",
       "      <td>2016-05-31 23:43:00</td>\n",
       "      <td>2016-06-01</td>\n",
       "      <td>00:00:00</td>\n",
       "    </tr>\n",
       "    <tr>\n",
       "      <th>2016-05-31 23:49:00</th>\n",
       "      <td>20165831105856-579</td>\n",
       "      <td>1</td>\n",
       "      <td>general-gate7</td>\n",
       "      <td>2016-05-31 23:49:00</td>\n",
       "      <td>2016-06-01</td>\n",
       "      <td>00:00:00</td>\n",
       "    </tr>\n",
       "    <tr>\n",
       "      <th>2016-05-31 23:56:00</th>\n",
       "      <td>20161031111001-854</td>\n",
       "      <td>6</td>\n",
       "      <td>general-gate4</td>\n",
       "      <td>2016-05-31 23:56:00</td>\n",
       "      <td>2016-06-01</td>\n",
       "      <td>00:00:00</td>\n",
       "    </tr>\n",
       "  </tbody>\n",
       "</table>\n",
       "<p>171477 rows × 6 columns</p>\n",
       "</div>"
      ],
      "text/plain": [
       "                                 car-id car-type      gate-name  \\\n",
       "Timestamp                                                         \n",
       "2015-05-01 00:43:00  20154301124328-262        4      entrance3   \n",
       "2015-05-01 01:03:00  20154301124328-262        4  general-gate1   \n",
       "2015-05-01 01:06:00  20154301124328-262        4   ranger-stop2   \n",
       "2015-05-01 01:09:00  20154301124328-262        4   ranger-stop0   \n",
       "2015-05-01 01:12:00  20154301124328-262        4  general-gate2   \n",
       "...                                 ...      ...            ...   \n",
       "2016-05-31 23:40:00  20161031111001-854        6   ranger-stop2   \n",
       "2016-05-31 23:42:00  20165831105856-579        1  general-gate4   \n",
       "2016-05-31 23:43:00  20161031111001-854        6  general-gate1   \n",
       "2016-05-31 23:49:00  20165831105856-579        1  general-gate7   \n",
       "2016-05-31 23:56:00  20161031111001-854        6  general-gate4   \n",
       "\n",
       "                                   Date        day     hours  \n",
       "Timestamp                                                     \n",
       "2015-05-01 00:43:00 2015-05-01 00:43:00 2015-05-01  01:00:00  \n",
       "2015-05-01 01:03:00 2015-05-01 01:03:00 2015-05-01  01:00:00  \n",
       "2015-05-01 01:06:00 2015-05-01 01:06:00 2015-05-01  01:00:00  \n",
       "2015-05-01 01:09:00 2015-05-01 01:09:00 2015-05-01  01:00:00  \n",
       "2015-05-01 01:12:00 2015-05-01 01:12:00 2015-05-01  01:00:00  \n",
       "...                                 ...        ...       ...  \n",
       "2016-05-31 23:40:00 2016-05-31 23:40:00 2016-06-01  00:00:00  \n",
       "2016-05-31 23:42:00 2016-05-31 23:42:00 2016-06-01  00:00:00  \n",
       "2016-05-31 23:43:00 2016-05-31 23:43:00 2016-06-01  00:00:00  \n",
       "2016-05-31 23:49:00 2016-05-31 23:49:00 2016-06-01  00:00:00  \n",
       "2016-05-31 23:56:00 2016-05-31 23:56:00 2016-06-01  00:00:00  \n",
       "\n",
       "[171477 rows x 6 columns]"
      ]
     },
     "execution_count": 6,
     "metadata": {},
     "output_type": "execute_result"
    }
   ],
   "source": [
    "data"
   ]
  },
  {
   "cell_type": "code",
   "execution_count": 7,
   "id": "forced-paris",
   "metadata": {},
   "outputs": [],
   "source": [
    "#Calculate unique count of cars for each day\n",
    "data_count_id_unqiue = data.groupby('day')['car-id'].nunique()\n",
    "#Calculate total number of car-detection for each day\n",
    "data_count_id = data.groupby('day')['car-id'].count()"
   ]
  },
  {
   "cell_type": "code",
   "execution_count": 8,
   "id": "compatible-dealing",
   "metadata": {
    "scrolled": false
   },
   "outputs": [
    {
     "data": {
      "text/plain": [
       "Text(0, 0.5, 'count of unique id')"
      ]
     },
     "execution_count": 8,
     "metadata": {},
     "output_type": "execute_result"
    },
    {
     "data": {
      "image/png": "[encoded data removed]",
      "text/plain": [
       "<Figure size 1440x504 with 1 Axes>"
      ]
     },
     "metadata": {
      "needs_background": "light"
     },
     "output_type": "display_data"
    }
   ],
   "source": [
    "fig = plt.figure()\n",
    "fig.set_size_inches(20, 7)\n",
    "\n",
    "ax = plt.axes()\n",
    "#ax.plot(data_count_id)\n",
    "ax.plot(data_count_id_unqiue)\n",
    "\n",
    "plt.title('Daily Number of Visitors Over Time', fontsize=20)\n",
    "plt.xlabel('time', fontsize=20)\n",
    "plt.ylabel('count of unique id', fontsize=20)"
   ]
  },
  {
   "cell_type": "code",
   "execution_count": 9,
   "id": "latest-worship",
   "metadata": {},
   "outputs": [
    {
     "data": {
      "text/html": [
       "<div>\n",
       "<style scoped>\n",
       "    .dataframe tbody tr th:only-of-type {\n",
       "        vertical-align: middle;\n",
       "    }\n",
       "\n",
       "    .dataframe tbody tr th {\n",
       "        vertical-align: top;\n",
       "    }\n",
       "\n",
       "    .dataframe thead th {\n",
       "        text-align: right;\n",
       "    }\n",
       "</style>\n",
       "<table border=\"1\" class=\"dataframe\">\n",
       "  <thead>\n",
       "    <tr style=\"text-align: right;\">\n",
       "      <th></th>\n",
       "      <th>car-id</th>\n",
       "      <th>car-type</th>\n",
       "      <th>gate-name</th>\n",
       "      <th>Date</th>\n",
       "      <th>day</th>\n",
       "      <th>hours</th>\n",
       "    </tr>\n",
       "    <tr>\n",
       "      <th>Timestamp</th>\n",
       "      <th></th>\n",
       "      <th></th>\n",
       "      <th></th>\n",
       "      <th></th>\n",
       "      <th></th>\n",
       "      <th></th>\n",
       "    </tr>\n",
       "  </thead>\n",
       "  <tbody>\n",
       "    <tr>\n",
       "      <th>2015-05-05 02:07:00</th>\n",
       "      <td>20150505020522-625</td>\n",
       "      <td>4</td>\n",
       "      <td>gate6</td>\n",
       "      <td>2015-05-05 02:07:00</td>\n",
       "      <td>2015-05-05</td>\n",
       "      <td>02:00:00</td>\n",
       "    </tr>\n",
       "    <tr>\n",
       "      <th>2015-05-05 02:09:00</th>\n",
       "      <td>20150505020522-625</td>\n",
       "      <td>4</td>\n",
       "      <td>gate5</td>\n",
       "      <td>2015-05-05 02:09:00</td>\n",
       "      <td>2015-05-05</td>\n",
       "      <td>02:00:00</td>\n",
       "    </tr>\n",
       "    <tr>\n",
       "      <th>2015-05-05 02:22:00</th>\n",
       "      <td>20150505020522-625</td>\n",
       "      <td>4</td>\n",
       "      <td>gate3</td>\n",
       "      <td>2015-05-05 02:22:00</td>\n",
       "      <td>2015-05-05</td>\n",
       "      <td>02:00:00</td>\n",
       "    </tr>\n",
       "    <tr>\n",
       "      <th>2015-05-05 02:40:00</th>\n",
       "      <td>20150505020522-625</td>\n",
       "      <td>4</td>\n",
       "      <td>gate3</td>\n",
       "      <td>2015-05-05 02:40:00</td>\n",
       "      <td>2015-05-05</td>\n",
       "      <td>03:00:00</td>\n",
       "    </tr>\n",
       "    <tr>\n",
       "      <th>2015-05-05 02:53:00</th>\n",
       "      <td>20150505020522-625</td>\n",
       "      <td>4</td>\n",
       "      <td>gate5</td>\n",
       "      <td>2015-05-05 02:53:00</td>\n",
       "      <td>2015-05-05</td>\n",
       "      <td>03:00:00</td>\n",
       "    </tr>\n",
       "    <tr>\n",
       "      <th>...</th>\n",
       "      <td>...</td>\n",
       "      <td>...</td>\n",
       "      <td>...</td>\n",
       "      <td>...</td>\n",
       "      <td>...</td>\n",
       "      <td>...</td>\n",
       "    </tr>\n",
       "    <tr>\n",
       "      <th>2016-05-31 02:49:00</th>\n",
       "      <td>20164531024545-131</td>\n",
       "      <td>4</td>\n",
       "      <td>gate5</td>\n",
       "      <td>2016-05-31 02:49:00</td>\n",
       "      <td>2016-05-31</td>\n",
       "      <td>03:00:00</td>\n",
       "    </tr>\n",
       "    <tr>\n",
       "      <th>2016-05-31 03:02:00</th>\n",
       "      <td>20164531024545-131</td>\n",
       "      <td>4</td>\n",
       "      <td>gate3</td>\n",
       "      <td>2016-05-31 03:02:00</td>\n",
       "      <td>2016-05-31</td>\n",
       "      <td>03:00:00</td>\n",
       "    </tr>\n",
       "    <tr>\n",
       "      <th>2016-05-31 03:20:00</th>\n",
       "      <td>20164531024545-131</td>\n",
       "      <td>4</td>\n",
       "      <td>gate3</td>\n",
       "      <td>2016-05-31 03:20:00</td>\n",
       "      <td>2016-05-31</td>\n",
       "      <td>03:00:00</td>\n",
       "    </tr>\n",
       "    <tr>\n",
       "      <th>2016-05-31 03:33:00</th>\n",
       "      <td>20164531024545-131</td>\n",
       "      <td>4</td>\n",
       "      <td>gate5</td>\n",
       "      <td>2016-05-31 03:33:00</td>\n",
       "      <td>2016-05-31</td>\n",
       "      <td>04:00:00</td>\n",
       "    </tr>\n",
       "    <tr>\n",
       "      <th>2016-05-31 03:35:00</th>\n",
       "      <td>20164531024545-131</td>\n",
       "      <td>4</td>\n",
       "      <td>gate6</td>\n",
       "      <td>2016-05-31 03:35:00</td>\n",
       "      <td>2016-05-31</td>\n",
       "      <td>04:00:00</td>\n",
       "    </tr>\n",
       "  </tbody>\n",
       "</table>\n",
       "<p>138 rows × 6 columns</p>\n",
       "</div>"
      ],
      "text/plain": [
       "                                 car-id car-type gate-name  \\\n",
       "Timestamp                                                    \n",
       "2015-05-05 02:07:00  20150505020522-625        4     gate6   \n",
       "2015-05-05 02:09:00  20150505020522-625        4     gate5   \n",
       "2015-05-05 02:22:00  20150505020522-625        4     gate3   \n",
       "2015-05-05 02:40:00  20150505020522-625        4     gate3   \n",
       "2015-05-05 02:53:00  20150505020522-625        4     gate5   \n",
       "...                                 ...      ...       ...   \n",
       "2016-05-31 02:49:00  20164531024545-131        4     gate5   \n",
       "2016-05-31 03:02:00  20164531024545-131        4     gate3   \n",
       "2016-05-31 03:20:00  20164531024545-131        4     gate3   \n",
       "2016-05-31 03:33:00  20164531024545-131        4     gate5   \n",
       "2016-05-31 03:35:00  20164531024545-131        4     gate6   \n",
       "\n",
       "                                   Date        day     hours  \n",
       "Timestamp                                                     \n",
       "2015-05-05 02:07:00 2015-05-05 02:07:00 2015-05-05  02:00:00  \n",
       "2015-05-05 02:09:00 2015-05-05 02:09:00 2015-05-05  02:00:00  \n",
       "2015-05-05 02:22:00 2015-05-05 02:22:00 2015-05-05  02:00:00  \n",
       "2015-05-05 02:40:00 2015-05-05 02:40:00 2015-05-05  03:00:00  \n",
       "2015-05-05 02:53:00 2015-05-05 02:53:00 2015-05-05  03:00:00  \n",
       "...                                 ...        ...       ...  \n",
       "2016-05-31 02:49:00 2016-05-31 02:49:00 2016-05-31  03:00:00  \n",
       "2016-05-31 03:02:00 2016-05-31 03:02:00 2016-05-31  03:00:00  \n",
       "2016-05-31 03:20:00 2016-05-31 03:20:00 2016-05-31  03:00:00  \n",
       "2016-05-31 03:33:00 2016-05-31 03:33:00 2016-05-31  04:00:00  \n",
       "2016-05-31 03:35:00 2016-05-31 03:35:00 2016-05-31  04:00:00  \n",
       "\n",
       "[138 rows x 6 columns]"
      ]
     },
     "execution_count": 9,
     "metadata": {},
     "output_type": "execute_result"
    }
   ],
   "source": [
    "#Filter out cars that violate the rule \n",
    "unpermitted = data[(data['car-type']!='2P') & (data['gate-name'].str.startswith('gate'))]\n",
    "unpermitted"
   ]
  },
  {
   "cell_type": "code",
   "execution_count": 10,
   "id": "prompt-sustainability",
   "metadata": {},
   "outputs": [
    {
     "data": {
      "text/html": [
       "<div>\n",
       "<style scoped>\n",
       "    .dataframe tbody tr th:only-of-type {\n",
       "        vertical-align: middle;\n",
       "    }\n",
       "\n",
       "    .dataframe tbody tr th {\n",
       "        vertical-align: top;\n",
       "    }\n",
       "\n",
       "    .dataframe thead th {\n",
       "        text-align: right;\n",
       "    }\n",
       "</style>\n",
       "<table border=\"1\" class=\"dataframe\">\n",
       "  <thead>\n",
       "    <tr style=\"text-align: right;\">\n",
       "      <th></th>\n",
       "      <th>hours</th>\n",
       "      <th>car-id</th>\n",
       "    </tr>\n",
       "  </thead>\n",
       "  <tbody>\n",
       "    <tr>\n",
       "      <th>0</th>\n",
       "      <td>02:00:00</td>\n",
       "      <td>4</td>\n",
       "    </tr>\n",
       "    <tr>\n",
       "      <th>1</th>\n",
       "      <td>03:00:00</td>\n",
       "      <td>13</td>\n",
       "    </tr>\n",
       "    <tr>\n",
       "      <th>2</th>\n",
       "      <td>04:00:00</td>\n",
       "      <td>14</td>\n",
       "    </tr>\n",
       "    <tr>\n",
       "      <th>3</th>\n",
       "      <td>05:00:00</td>\n",
       "      <td>8</td>\n",
       "    </tr>\n",
       "    <tr>\n",
       "      <th>4</th>\n",
       "      <td>06:00:00</td>\n",
       "      <td>4</td>\n",
       "    </tr>\n",
       "  </tbody>\n",
       "</table>\n",
       "</div>"
      ],
      "text/plain": [
       "      hours  car-id\n",
       "0  02:00:00       4\n",
       "1  03:00:00      13\n",
       "2  04:00:00      14\n",
       "3  05:00:00       8\n",
       "4  06:00:00       4"
      ]
     },
     "execution_count": 10,
     "metadata": {},
     "output_type": "execute_result"
    }
   ],
   "source": [
    "#Violation time \n",
    "vio_time = pd.DataFrame(unpermitted.groupby('hours')['car-id'].nunique())\n",
    "vio_time.reset_index(inplace=True)\n",
    "vio_time"
   ]
  },
  {
   "cell_type": "code",
   "execution_count": 11,
   "id": "virtual-details",
   "metadata": {},
   "outputs": [
    {
     "data": {
      "text/plain": [
       "Text(0, 0.5, 'Count of car')"
      ]
     },
     "execution_count": 11,
     "metadata": {},
     "output_type": "execute_result"
    },
    {
     "data": {
      "image/png": "[encoded data removed]",
      "text/plain": [
       "<Figure size 432x288 with 1 Axes>"
      ]
     },
     "metadata": {
      "needs_background": "light"
     },
     "output_type": "display_data"
    }
   ],
   "source": [
    "#Bar plot for violation sequence by time\n",
    "vio_time.plot(kind='bar')\n",
    "\n",
    "plt.title('Count of Violators', fontsize=15)\n",
    "plt.xlabel('Time(am)', fontsize=15)\n",
    "plt.ylabel('Count of car', fontsize=15)"
   ]
  },
  {
   "cell_type": "code",
   "execution_count": 12,
   "id": "reliable-opinion",
   "metadata": {},
   "outputs": [
    {
     "data": {
      "text/plain": [
       "day\n",
       "2015-05-05    1\n",
       "2015-05-21    1\n",
       "2015-06-02    1\n",
       "2015-06-16    1\n",
       "2015-06-25    1\n",
       "2015-07-07    1\n",
       "2015-07-14    1\n",
       "2015-07-23    1\n",
       "2015-08-04    1\n",
       "2015-08-20    1\n",
       "2015-09-01    1\n",
       "2015-09-15    1\n",
       "2015-10-01    1\n",
       "2015-10-20    1\n",
       "2015-11-12    1\n",
       "2015-12-01    1\n",
       "2015-12-24    1\n",
       "2016-01-19    1\n",
       "2016-02-16    1\n",
       "2016-03-01    1\n",
       "2016-05-03    1\n",
       "2016-05-19    1\n",
       "2016-05-31    1\n",
       "Name: car-id, dtype: int64"
      ]
     },
     "execution_count": 12,
     "metadata": {},
     "output_type": "execute_result"
    }
   ],
   "source": [
    "#Count of unqiue car id of unpermitted cars for each day \n",
    "data_count_id_unpermitted = unpermitted.groupby('day')['car-id'].nunique()\n",
    "data_count_id_unpermitted"
   ]
  },
  {
   "cell_type": "code",
   "execution_count": 13,
   "id": "romantic-robert",
   "metadata": {},
   "outputs": [
    {
     "data": {
      "text/plain": [
       "[<matplotlib.lines.Line2D at 0x7f91380f3220>]"
      ]
     },
     "execution_count": 13,
     "metadata": {},
     "output_type": "execute_result"
    },
    {
     "data": {
      "image/png": "[encoded data removed]",
      "text/plain": [
       "<Figure size 1440x504 with 1 Axes>"
      ]
     },
     "metadata": {
      "needs_background": "light"
     },
     "output_type": "display_data"
    }
   ],
   "source": [
    "#Plot of count of unqiue car id of unpermitted cars for each day;\n",
    "#All are one. \n",
    "fig = plt.figure()\n",
    "fig.set_size_inches(20, 7)\n",
    "\n",
    "ax = plt.axes()\n",
    "ax.plot(data_count_id_unpermitted)"
   ]
  },
  {
   "cell_type": "code",
   "execution_count": 55,
   "id": "finnish-burner",
   "metadata": {},
   "outputs": [],
   "source": [
    "#Calculate stay time for each car id\n",
    "stay_time = pd.DataFrame(data.groupby('car-id').last()['Date']-data.groupby('car-id').first()['Date'])\n",
    "stay_time['hours'] = round(stay_time.astype('timedelta64[m]')/60 , 3)\n",
    "stay_time = pd.DataFrame(stay_time['hours'])"
   ]
  },
  {
   "cell_type": "code",
   "execution_count": 57,
   "id": "smooth-stewart",
   "metadata": {},
   "outputs": [
    {
     "data": {
      "text/html": [
       "<div>\n",
       "<style scoped>\n",
       "    .dataframe tbody tr th:only-of-type {\n",
       "        vertical-align: middle;\n",
       "    }\n",
       "\n",
       "    .dataframe tbody tr th {\n",
       "        vertical-align: top;\n",
       "    }\n",
       "\n",
       "    .dataframe thead th {\n",
       "        text-align: right;\n",
       "    }\n",
       "</style>\n",
       "<table border=\"1\" class=\"dataframe\">\n",
       "  <thead>\n",
       "    <tr style=\"text-align: right;\">\n",
       "      <th></th>\n",
       "      <th>hours</th>\n",
       "    </tr>\n",
       "    <tr>\n",
       "      <th>car-id</th>\n",
       "      <th></th>\n",
       "    </tr>\n",
       "  </thead>\n",
       "  <tbody>\n",
       "    <tr>\n",
       "      <th>20155705025759-63</th>\n",
       "      <td>8399.767</td>\n",
       "    </tr>\n",
       "    <tr>\n",
       "      <th>20154519024544-322</th>\n",
       "      <td>2577.850</td>\n",
       "    </tr>\n",
       "    <tr>\n",
       "      <th>20154112014114-381</th>\n",
       "      <td>1065.317</td>\n",
       "    </tr>\n",
       "    <tr>\n",
       "      <th>20162904122951-717</th>\n",
       "      <td>897.750</td>\n",
       "    </tr>\n",
       "    <tr>\n",
       "      <th>20155517055510-758</th>\n",
       "      <td>770.400</td>\n",
       "    </tr>\n",
       "    <tr>\n",
       "      <th>...</th>\n",
       "      <td>...</td>\n",
       "    </tr>\n",
       "    <tr>\n",
       "      <th>20153018033009-461</th>\n",
       "      <td>0.067</td>\n",
       "    </tr>\n",
       "    <tr>\n",
       "      <th>20153305073332-375</th>\n",
       "      <td>0.067</td>\n",
       "    </tr>\n",
       "    <tr>\n",
       "      <th>20152209032232-843</th>\n",
       "      <td>0.067</td>\n",
       "    </tr>\n",
       "    <tr>\n",
       "      <th>20152501022508-822</th>\n",
       "      <td>0.067</td>\n",
       "    </tr>\n",
       "    <tr>\n",
       "      <th>20161229031207-187</th>\n",
       "      <td>0.033</td>\n",
       "    </tr>\n",
       "  </tbody>\n",
       "</table>\n",
       "<p>18708 rows × 1 columns</p>\n",
       "</div>"
      ],
      "text/plain": [
       "                       hours\n",
       "car-id                      \n",
       "20155705025759-63   8399.767\n",
       "20154519024544-322  2577.850\n",
       "20154112014114-381  1065.317\n",
       "20162904122951-717   897.750\n",
       "20155517055510-758   770.400\n",
       "...                      ...\n",
       "20153018033009-461     0.067\n",
       "20153305073332-375     0.067\n",
       "20152209032232-843     0.067\n",
       "20152501022508-822     0.067\n",
       "20161229031207-187     0.033\n",
       "\n",
       "[18708 rows x 1 columns]"
      ]
     },
     "execution_count": 57,
     "metadata": {},
     "output_type": "execute_result"
    }
   ],
   "source": [
    "stay_time.sort_values(by=['hours'],ascending=False)"
   ]
  },
  {
   "cell_type": "code",
   "execution_count": 76,
   "id": "fresh-oasis",
   "metadata": {},
   "outputs": [
    {
     "data": {
      "text/plain": [
       "Text(0.5, 1.0, 'stay time for each car id')"
      ]
     },
     "execution_count": 76,
     "metadata": {},
     "output_type": "execute_result"
    },
    {
     "data": {
      "image/png": "[encoded data removed]",
      "text/plain": [
       "<Figure size 432x288 with 1 Axes>"
      ]
     },
     "metadata": {
      "needs_background": "light"
     },
     "output_type": "display_data"
    }
   ],
   "source": [
    "#The box plot shows that there are two siginificant outlier in stay time; Hypothesis #3\n",
    "stay_time.plot.box()\n",
    "plt.title('stay time for each car id')"
   ]
  },
  {
   "cell_type": "code",
   "execution_count": 73,
   "id": "polyphonic-intervention",
   "metadata": {},
   "outputs": [
    {
     "data": {
      "text/html": [
       "<div>\n",
       "<style scoped>\n",
       "    .dataframe tbody tr th:only-of-type {\n",
       "        vertical-align: middle;\n",
       "    }\n",
       "\n",
       "    .dataframe tbody tr th {\n",
       "        vertical-align: top;\n",
       "    }\n",
       "\n",
       "    .dataframe thead th {\n",
       "        text-align: right;\n",
       "    }\n",
       "</style>\n",
       "<table border=\"1\" class=\"dataframe\">\n",
       "  <thead>\n",
       "    <tr style=\"text-align: right;\">\n",
       "      <th></th>\n",
       "      <th>Date</th>\n",
       "    </tr>\n",
       "    <tr>\n",
       "      <th>car-id</th>\n",
       "      <th></th>\n",
       "    </tr>\n",
       "  </thead>\n",
       "  <tbody>\n",
       "    <tr>\n",
       "      <th>20154519024544-322</th>\n",
       "      <td>281</td>\n",
       "    </tr>\n",
       "    <tr>\n",
       "      <th>20154112014114-381</th>\n",
       "      <td>98</td>\n",
       "    </tr>\n",
       "    <tr>\n",
       "      <th>20155705025759-63</th>\n",
       "      <td>70</td>\n",
       "    </tr>\n",
       "    <tr>\n",
       "      <th>20164106064104-865</th>\n",
       "      <td>49</td>\n",
       "    </tr>\n",
       "    <tr>\n",
       "      <th>20153326053354-839</th>\n",
       "      <td>49</td>\n",
       "    </tr>\n",
       "    <tr>\n",
       "      <th>...</th>\n",
       "      <td>...</td>\n",
       "    </tr>\n",
       "    <tr>\n",
       "      <th>20163510103505-882</th>\n",
       "      <td>2</td>\n",
       "    </tr>\n",
       "    <tr>\n",
       "      <th>20152021082039-914</th>\n",
       "      <td>2</td>\n",
       "    </tr>\n",
       "    <tr>\n",
       "      <th>20152021022018-760</th>\n",
       "      <td>2</td>\n",
       "    </tr>\n",
       "    <tr>\n",
       "      <th>20155621075628-914</th>\n",
       "      <td>2</td>\n",
       "    </tr>\n",
       "    <tr>\n",
       "      <th>20165930065938-555</th>\n",
       "      <td>2</td>\n",
       "    </tr>\n",
       "  </tbody>\n",
       "</table>\n",
       "<p>18708 rows × 1 columns</p>\n",
       "</div>"
      ],
      "text/plain": [
       "                    Date\n",
       "car-id                  \n",
       "20154519024544-322   281\n",
       "20154112014114-381    98\n",
       "20155705025759-63     70\n",
       "20164106064104-865    49\n",
       "20153326053354-839    49\n",
       "...                  ...\n",
       "20163510103505-882     2\n",
       "20152021082039-914     2\n",
       "20152021022018-760     2\n",
       "20155621075628-914     2\n",
       "20165930065938-555     2\n",
       "\n",
       "[18708 rows x 1 columns]"
      ]
     },
     "execution_count": 73,
     "metadata": {},
     "output_type": "execute_result"
    }
   ],
   "source": [
    "#Calculate count of visit for each car id\n",
    "visit_freq = pd.DataFrame(data.groupby('car-id')['Date'].count())\n",
    "visit_freq.sort_values(by=['Date'],ascending=False)"
   ]
  },
  {
   "cell_type": "code",
   "execution_count": 75,
   "id": "loved-split",
   "metadata": {},
   "outputs": [
    {
     "data": {
      "text/plain": [
       "Text(0.5, 1.0, 'count of visit for each car id')"
      ]
     },
     "execution_count": 75,
     "metadata": {},
     "output_type": "execute_result"
    },
    {
     "data": {
      "image/png": "[encoded data removed]",
      "text/plain": [
       "<Figure size 432x288 with 1 Axes>"
      ]
     },
     "metadata": {
      "needs_background": "light"
     },
     "output_type": "display_data"
    }
   ],
   "source": [
    "visit_freq.plot.box()\n",
    "plt.title(\"count of visit for each car id\")"
   ]
  },
  {
   "cell_type": "code",
   "execution_count": null,
   "id": "variable-harrison",
   "metadata": {},
   "outputs": [],
   "source": []
  },
  {
   "cell_type": "code",
   "execution_count": 74,
   "id": "paperback-painting",
   "metadata": {},
   "outputs": [
    {
     "data": {
      "text/plain": [
       "18708"
      ]
     },
     "execution_count": 74,
     "metadata": {},
     "output_type": "execute_result"
    }
   ],
   "source": [
    "visit_freq.size"
   ]
  },
  {
   "cell_type": "code",
   "execution_count": null,
   "id": "headed-buyer",
   "metadata": {},
   "outputs": [],
   "source": []
  }
 ],
 "metadata": {
  "kernelspec": {
   "display_name": "Python 3",
   "language": "python",
   "name": "python3"
  },
  "language_info": {
   "codemirror_mode": {
    "name": "ipython",
    "version": 3
   },
   "file_extension": ".py",
   "mimetype": "text/x-python",
   "name": "python",
   "nbconvert_exporter": "python",
   "pygments_lexer": "ipython3",
   "version": "3.9.1"
  }
 },
 "nbformat": 4,
 "nbformat_minor": 5
}
